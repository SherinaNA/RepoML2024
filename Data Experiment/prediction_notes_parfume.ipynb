{
 "cells": [
  {
   "cell_type": "code",
   "execution_count": 7,
   "metadata": {},
   "outputs": [],
   "source": [
    "# import library\n",
    "from sklearn.preprocessing import LabelEncoder\n",
    "from sklearn.ensemble import RandomForestClassifier\n",
    "from sklearn.metrics import classification_report, accuracy_score\n",
    "import matplotlib.pyplot as plt\n",
    "import seaborn as sns\n",
    "import numpy as np\n",
    "from keras.utils import to_categorical"
   ]
  },
  {
   "cell_type": "code",
   "execution_count": 8,
   "metadata": {},
   "outputs": [
    {
     "name": "stdout",
     "output_type": "stream",
     "text": [
      "               RGB    R    G    B  Season\n",
      "0  (254, 255, 210)  254  255  210  Summer\n",
      "1  (255, 238, 169)  255  238  169  Summer\n",
      "2  (255, 191, 120)  255  191  120  Summer\n",
      "3   (255, 125, 41)  255  125   41  Summer\n",
      "4  (255, 253, 181)  255  253  181  Summer\n"
     ]
    }
   ],
   "source": [
    "# Import Dataset\n",
    "import pandas as pd\n",
    "#muat dataset colors\n",
    "colors_df = pd.read_csv('seasonal_colors.csv')\n",
    "\n",
    "#display first row each dataset\n",
    "print(colors_df.head())"
   ]
  },
  {
   "cell_type": "code",
   "execution_count": 9,
   "metadata": {},
   "outputs": [],
   "source": [
    "# Convert RGB values to numerical representation\n",
    "colors_df['R'] = colors_df['R'] / 255.0\n",
    "colors_df['G'] = colors_df['G'] / 255.0\n",
    "colors_df['B'] = colors_df['B'] / 255.0"
   ]
  },
  {
   "cell_type": "code",
   "execution_count": 10,
   "metadata": {},
   "outputs": [],
   "source": [
    "# Split Data ke Data Training dan Data Testing using sklearn\n",
    "from sklearn.model_selection import train_test_split\n",
    "X = colors_df[['R', 'G', 'B']]\n",
    "y = colors_df['Season']\n",
    "\n",
    "# One-hot encode the target variable\n",
    "le = LabelEncoder()\n",
    "y = le.fit_transform(y)\n",
    "y = to_categorical(y)\n",
    "\n",
    "X_train, X_test, y_train, y_test = train_test_split(X, y, test_size=0.2, random_state=42)"
   ]
  },
  {
   "cell_type": "code",
   "execution_count": 11,
   "metadata": {},
   "outputs": [
    {
     "name": "stderr",
     "output_type": "stream",
     "text": [
      "c:\\Users\\lenovo\\AppData\\Local\\Programs\\Python\\Python312\\Lib\\site-packages\\keras\\src\\layers\\core\\dense.py:87: UserWarning: Do not pass an `input_shape`/`input_dim` argument to a layer. When using Sequential models, prefer using an `Input(shape)` object as the first layer in the model instead.\n",
      "  super().__init__(activity_regularizer=activity_regularizer, **kwargs)\n"
     ]
    }
   ],
   "source": [
    "#Train ML Model\n",
    "from keras.models import Sequential\n",
    "from keras.layers import Dense\n",
    "\n",
    "model = Sequential()\n",
    "model.add(Dense(64, activation='relu', input_shape=(3,)))\n",
    "model.add(Dense(4, activation='softmax'))\n",
    "\n",
    "model.compile(loss='categorical_crossentropy', optimizer='adam', metrics=['accuracy'])"
   ]
  },
  {
   "cell_type": "code",
   "execution_count": 13,
   "metadata": {},
   "outputs": [
    {
     "name": "stdout",
     "output_type": "stream",
     "text": [
      "Epoch 1/100\n",
      "6/6 - 0s - 7ms/step - accuracy: 0.5281 - loss: 1.1819\n",
      "Epoch 2/100\n",
      "6/6 - 0s - 6ms/step - accuracy: 0.5281 - loss: 1.1816\n",
      "Epoch 3/100\n",
      "6/6 - 0s - 6ms/step - accuracy: 0.5281 - loss: 1.1787\n",
      "Epoch 4/100\n",
      "6/6 - 0s - 13ms/step - accuracy: 0.5169 - loss: 1.1744\n",
      "Epoch 5/100\n",
      "6/6 - 0s - 7ms/step - accuracy: 0.5169 - loss: 1.1727\n",
      "Epoch 6/100\n",
      "6/6 - 0s - 6ms/step - accuracy: 0.5393 - loss: 1.1701\n",
      "Epoch 7/100\n",
      "6/6 - 0s - 5ms/step - accuracy: 0.5393 - loss: 1.1678\n",
      "Epoch 8/100\n",
      "6/6 - 0s - 6ms/step - accuracy: 0.5169 - loss: 1.1655\n",
      "Epoch 9/100\n",
      "6/6 - 0s - 6ms/step - accuracy: 0.5281 - loss: 1.1633\n",
      "Epoch 10/100\n",
      "6/6 - 0s - 6ms/step - accuracy: 0.5169 - loss: 1.1614\n",
      "Epoch 11/100\n",
      "6/6 - 0s - 5ms/step - accuracy: 0.5618 - loss: 1.1598\n",
      "Epoch 12/100\n",
      "6/6 - 0s - 6ms/step - accuracy: 0.5506 - loss: 1.1572\n",
      "Epoch 13/100\n",
      "6/6 - 0s - 6ms/step - accuracy: 0.5393 - loss: 1.1550\n",
      "Epoch 14/100\n",
      "6/6 - 0s - 6ms/step - accuracy: 0.5393 - loss: 1.1530\n",
      "Epoch 15/100\n",
      "6/6 - 0s - 6ms/step - accuracy: 0.5393 - loss: 1.1508\n",
      "Epoch 16/100\n",
      "6/6 - 0s - 6ms/step - accuracy: 0.5506 - loss: 1.1500\n",
      "Epoch 17/100\n",
      "6/6 - 0s - 6ms/step - accuracy: 0.5730 - loss: 1.1477\n",
      "Epoch 18/100\n",
      "6/6 - 0s - 6ms/step - accuracy: 0.5506 - loss: 1.1465\n",
      "Epoch 19/100\n",
      "6/6 - 0s - 6ms/step - accuracy: 0.5506 - loss: 1.1445\n",
      "Epoch 20/100\n",
      "6/6 - 0s - 6ms/step - accuracy: 0.5730 - loss: 1.1410\n",
      "Epoch 21/100\n",
      "6/6 - 0s - 6ms/step - accuracy: 0.5843 - loss: 1.1391\n",
      "Epoch 22/100\n",
      "6/6 - 0s - 5ms/step - accuracy: 0.5730 - loss: 1.1370\n",
      "Epoch 23/100\n",
      "6/6 - 0s - 6ms/step - accuracy: 0.5506 - loss: 1.1354\n",
      "Epoch 24/100\n",
      "6/6 - 0s - 6ms/step - accuracy: 0.5506 - loss: 1.1334\n",
      "Epoch 25/100\n",
      "6/6 - 0s - 6ms/step - accuracy: 0.5506 - loss: 1.1316\n",
      "Epoch 26/100\n",
      "6/6 - 0s - 6ms/step - accuracy: 0.5618 - loss: 1.1302\n",
      "Epoch 27/100\n",
      "6/6 - 0s - 7ms/step - accuracy: 0.5506 - loss: 1.1282\n",
      "Epoch 28/100\n",
      "6/6 - 0s - 5ms/step - accuracy: 0.5506 - loss: 1.1281\n",
      "Epoch 29/100\n",
      "6/6 - 0s - 5ms/step - accuracy: 0.5506 - loss: 1.1258\n",
      "Epoch 30/100\n",
      "6/6 - 0s - 6ms/step - accuracy: 0.5618 - loss: 1.1234\n",
      "Epoch 31/100\n",
      "6/6 - 0s - 5ms/step - accuracy: 0.5618 - loss: 1.1234\n",
      "Epoch 32/100\n",
      "6/6 - 0s - 6ms/step - accuracy: 0.5730 - loss: 1.1217\n",
      "Epoch 33/100\n",
      "6/6 - 0s - 6ms/step - accuracy: 0.5618 - loss: 1.1217\n",
      "Epoch 34/100\n",
      "6/6 - 0s - 5ms/step - accuracy: 0.5506 - loss: 1.1196\n",
      "Epoch 35/100\n",
      "6/6 - 0s - 6ms/step - accuracy: 0.5730 - loss: 1.1174\n",
      "Epoch 36/100\n",
      "6/6 - 0s - 5ms/step - accuracy: 0.5730 - loss: 1.1164\n",
      "Epoch 37/100\n",
      "6/6 - 0s - 6ms/step - accuracy: 0.5730 - loss: 1.1152\n",
      "Epoch 38/100\n",
      "6/6 - 0s - 5ms/step - accuracy: 0.5843 - loss: 1.1142\n",
      "Epoch 39/100\n",
      "6/6 - 0s - 5ms/step - accuracy: 0.5618 - loss: 1.1135\n",
      "Epoch 40/100\n",
      "6/6 - 0s - 6ms/step - accuracy: 0.5730 - loss: 1.1116\n",
      "Epoch 41/100\n",
      "6/6 - 0s - 5ms/step - accuracy: 0.5618 - loss: 1.1106\n",
      "Epoch 42/100\n",
      "6/6 - 0s - 6ms/step - accuracy: 0.5730 - loss: 1.1097\n",
      "Epoch 43/100\n",
      "6/6 - 0s - 6ms/step - accuracy: 0.5730 - loss: 1.1103\n",
      "Epoch 44/100\n",
      "6/6 - 0s - 6ms/step - accuracy: 0.5843 - loss: 1.1077\n",
      "Epoch 45/100\n",
      "6/6 - 0s - 6ms/step - accuracy: 0.5730 - loss: 1.1075\n",
      "Epoch 46/100\n",
      "6/6 - 0s - 6ms/step - accuracy: 0.5730 - loss: 1.1058\n",
      "Epoch 47/100\n",
      "6/6 - 0s - 6ms/step - accuracy: 0.5730 - loss: 1.1055\n",
      "Epoch 48/100\n",
      "6/6 - 0s - 6ms/step - accuracy: 0.5730 - loss: 1.1055\n",
      "Epoch 49/100\n",
      "6/6 - 0s - 6ms/step - accuracy: 0.5730 - loss: 1.1023\n",
      "Epoch 50/100\n",
      "6/6 - 0s - 6ms/step - accuracy: 0.5730 - loss: 1.1028\n",
      "Epoch 51/100\n",
      "6/6 - 0s - 6ms/step - accuracy: 0.5730 - loss: 1.1017\n",
      "Epoch 52/100\n",
      "6/6 - 0s - 6ms/step - accuracy: 0.5730 - loss: 1.1006\n",
      "Epoch 53/100\n",
      "6/6 - 0s - 6ms/step - accuracy: 0.5843 - loss: 1.0993\n",
      "Epoch 54/100\n",
      "6/6 - 0s - 6ms/step - accuracy: 0.5730 - loss: 1.0985\n",
      "Epoch 55/100\n",
      "6/6 - 0s - 5ms/step - accuracy: 0.5730 - loss: 1.0971\n",
      "Epoch 56/100\n",
      "6/6 - 0s - 6ms/step - accuracy: 0.5618 - loss: 1.0971\n",
      "Epoch 57/100\n",
      "6/6 - 0s - 6ms/step - accuracy: 0.5843 - loss: 1.0961\n",
      "Epoch 58/100\n",
      "6/6 - 0s - 5ms/step - accuracy: 0.5843 - loss: 1.0951\n",
      "Epoch 59/100\n",
      "6/6 - 0s - 5ms/step - accuracy: 0.5730 - loss: 1.0952\n",
      "Epoch 60/100\n",
      "6/6 - 0s - 6ms/step - accuracy: 0.5843 - loss: 1.0938\n",
      "Epoch 61/100\n",
      "6/6 - 0s - 5ms/step - accuracy: 0.5843 - loss: 1.0929\n",
      "Epoch 62/100\n",
      "6/6 - 0s - 6ms/step - accuracy: 0.5843 - loss: 1.0940\n",
      "Epoch 63/100\n",
      "6/6 - 0s - 5ms/step - accuracy: 0.5730 - loss: 1.0933\n",
      "Epoch 64/100\n",
      "6/6 - 0s - 6ms/step - accuracy: 0.5843 - loss: 1.0909\n",
      "Epoch 65/100\n",
      "6/6 - 0s - 5ms/step - accuracy: 0.5843 - loss: 1.0918\n",
      "Epoch 66/100\n",
      "6/6 - 0s - 6ms/step - accuracy: 0.5618 - loss: 1.0905\n",
      "Epoch 67/100\n",
      "6/6 - 0s - 5ms/step - accuracy: 0.5843 - loss: 1.0887\n",
      "Epoch 68/100\n",
      "6/6 - 0s - 5ms/step - accuracy: 0.5843 - loss: 1.0880\n",
      "Epoch 69/100\n",
      "6/6 - 0s - 6ms/step - accuracy: 0.5730 - loss: 1.0876\n",
      "Epoch 70/100\n",
      "6/6 - 0s - 6ms/step - accuracy: 0.5730 - loss: 1.0872\n",
      "Epoch 71/100\n",
      "6/6 - 0s - 5ms/step - accuracy: 0.5843 - loss: 1.0876\n",
      "Epoch 72/100\n",
      "6/6 - 0s - 6ms/step - accuracy: 0.5730 - loss: 1.0861\n",
      "Epoch 73/100\n",
      "6/6 - 0s - 6ms/step - accuracy: 0.5730 - loss: 1.0852\n",
      "Epoch 74/100\n",
      "6/6 - 0s - 6ms/step - accuracy: 0.5730 - loss: 1.0841\n",
      "Epoch 75/100\n",
      "6/6 - 0s - 6ms/step - accuracy: 0.5843 - loss: 1.0830\n",
      "Epoch 76/100\n",
      "6/6 - 0s - 6ms/step - accuracy: 0.5955 - loss: 1.0843\n",
      "Epoch 77/100\n",
      "6/6 - 0s - 6ms/step - accuracy: 0.6067 - loss: 1.0836\n",
      "Epoch 78/100\n",
      "6/6 - 0s - 8ms/step - accuracy: 0.5955 - loss: 1.0811\n",
      "Epoch 79/100\n",
      "6/6 - 0s - 7ms/step - accuracy: 0.6067 - loss: 1.0808\n",
      "Epoch 80/100\n",
      "6/6 - 0s - 6ms/step - accuracy: 0.5955 - loss: 1.0797\n",
      "Epoch 81/100\n",
      "6/6 - 0s - 6ms/step - accuracy: 0.5843 - loss: 1.0792\n",
      "Epoch 82/100\n",
      "6/6 - 0s - 6ms/step - accuracy: 0.5955 - loss: 1.0791\n",
      "Epoch 83/100\n",
      "6/6 - 0s - 8ms/step - accuracy: 0.5955 - loss: 1.0778\n",
      "Epoch 84/100\n",
      "6/6 - 0s - 6ms/step - accuracy: 0.5955 - loss: 1.0772\n",
      "Epoch 85/100\n",
      "6/6 - 0s - 6ms/step - accuracy: 0.6067 - loss: 1.0765\n",
      "Epoch 86/100\n",
      "6/6 - 0s - 6ms/step - accuracy: 0.5955 - loss: 1.0765\n",
      "Epoch 87/100\n",
      "6/6 - 0s - 6ms/step - accuracy: 0.5955 - loss: 1.0752\n",
      "Epoch 88/100\n",
      "6/6 - 0s - 6ms/step - accuracy: 0.6180 - loss: 1.0754\n",
      "Epoch 89/100\n",
      "6/6 - 0s - 6ms/step - accuracy: 0.6180 - loss: 1.0735\n",
      "Epoch 90/100\n",
      "6/6 - 0s - 7ms/step - accuracy: 0.6067 - loss: 1.0733\n",
      "Epoch 91/100\n",
      "6/6 - 0s - 6ms/step - accuracy: 0.6067 - loss: 1.0742\n",
      "Epoch 92/100\n",
      "6/6 - 0s - 6ms/step - accuracy: 0.5955 - loss: 1.0730\n",
      "Epoch 93/100\n",
      "6/6 - 0s - 6ms/step - accuracy: 0.5955 - loss: 1.0709\n",
      "Epoch 94/100\n",
      "6/6 - 0s - 6ms/step - accuracy: 0.6067 - loss: 1.0712\n",
      "Epoch 95/100\n",
      "6/6 - 0s - 6ms/step - accuracy: 0.6180 - loss: 1.0699\n",
      "Epoch 96/100\n",
      "6/6 - 0s - 5ms/step - accuracy: 0.5955 - loss: 1.0698\n",
      "Epoch 97/100\n",
      "6/6 - 0s - 6ms/step - accuracy: 0.5955 - loss: 1.0691\n",
      "Epoch 98/100\n",
      "6/6 - 0s - 6ms/step - accuracy: 0.6067 - loss: 1.0683\n",
      "Epoch 99/100\n",
      "6/6 - 0s - 6ms/step - accuracy: 0.5955 - loss: 1.0679\n",
      "Epoch 100/100\n",
      "6/6 - 0s - 6ms/step - accuracy: 0.5955 - loss: 1.0676\n"
     ]
    },
    {
     "data": {
      "text/plain": [
       "<keras.src.callbacks.history.History at 0x1f377572750>"
      ]
     },
     "execution_count": 13,
     "metadata": {},
     "output_type": "execute_result"
    }
   ],
   "source": [
    "model.fit(X_train, y_train, epochs=100, batch_size=16, verbose=2)"
   ]
  },
  {
   "cell_type": "code",
   "execution_count": 18,
   "metadata": {},
   "outputs": [
    {
     "name": "stdout",
     "output_type": "stream",
     "text": [
      "               RGB         R         G         B  Season\n",
      "0  (254, 255, 210)  0.996078  1.000000  0.823529  Summer\n",
      "1  (255, 238, 169)  1.000000  0.933333  0.662745  Summer\n",
      "2  (255, 191, 120)  1.000000  0.749020  0.470588  Summer\n",
      "3   (255, 125, 41)  1.000000  0.490196  0.160784  Summer\n",
      "4  (255, 253, 181)  1.000000  0.992157  0.709804  Summer\n"
     ]
    }
   ],
   "source": [
    "# Display the dataset with the encoded labels\n",
    "colors_df['Season'] = le.inverse_transform(y.argmax(axis=1))\n",
    "print(colors_df.head())"
   ]
  },
  {
   "cell_type": "code",
   "execution_count": 14,
   "metadata": {},
   "outputs": [
    {
     "name": "stdout",
     "output_type": "stream",
     "text": [
      "\u001b[1m1/1\u001b[0m \u001b[32m━━━━━━━━━━━━━━━━━━━━\u001b[0m\u001b[37m\u001b[0m \u001b[1m0s\u001b[0m 117ms/step - accuracy: 0.4783 - loss: 1.0652\n",
      "Test accuracy: 0.48\n"
     ]
    }
   ],
   "source": [
    "loss, accuracy = model.evaluate(X_test, y_test)\n",
    "print(f'Test accuracy: {accuracy:.2f}')"
   ]
  },
  {
   "cell_type": "code",
   "execution_count": 15,
   "metadata": {},
   "outputs": [
    {
     "name": "stdout",
     "output_type": "stream",
     "text": [
      "\u001b[1m1/1\u001b[0m \u001b[32m━━━━━━━━━━━━━━━━━━━━\u001b[0m\u001b[37m\u001b[0m \u001b[1m0s\u001b[0m 54ms/step\n",
      "The season for RGB (200, 100, 50) is 0\n"
     ]
    }
   ],
   "source": [
    "def predict_season(rgb):\n",
    "    r, g, b = rgb\n",
    "    r = r / 255.0\n",
    "    g = g / 255.0\n",
    "    b = b / 255.0\n",
    "    input_data = np.array([[r, g, b]])\n",
    "    prediction = model.predict(input_data)\n",
    "    return np.argmax(prediction)\n",
    "\n",
    "# Example usage:\n",
    "rgb = (200, 100, 50)\n",
    "season = predict_season(rgb)\n",
    "print(f'The season for RGB ({rgb[0]}, {rgb[1]}, {rgb[2]}) is {season}')"
   ]
  }
 ],
 "metadata": {
  "kernelspec": {
   "display_name": "Python 3",
   "language": "python",
   "name": "python3"
  },
  "language_info": {
   "codemirror_mode": {
    "name": "ipython",
    "version": 3
   },
   "file_extension": ".py",
   "mimetype": "text/x-python",
   "name": "python",
   "nbconvert_exporter": "python",
   "pygments_lexer": "ipython3",
   "version": "3.12.2"
  }
 },
 "nbformat": 4,
 "nbformat_minor": 2
}
