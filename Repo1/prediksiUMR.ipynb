{
 "cells": [
  {
   "cell_type": "code",
   "execution_count": 8,
   "metadata": {},
   "outputs": [],
   "source": [
    "import pandas as pd\n",
    "import numpy as np\n",
    "import matplotlib.pyplot as plt"
   ]
  },
  {
   "cell_type": "code",
   "execution_count": 9,
   "metadata": {},
   "outputs": [
    {
     "name": "stdout",
     "output_type": "stream",
     "text": [
      "      Kabupaten           2019           2020           2021           2022  \\\n",
      "0       Cilacap   Rp1,989,058    Rp2,158,327    Rp2,228,904    Rp2,230,731    \n",
      "1      Banyumas   Rp1,750,000    Rp1,900,000    Rp1,970,000    Rp1,983,261    \n",
      "2   Purbalingga   Rp1,788,500    Rp1,940,800    Rp1,988,000    Rp1,996,814    \n",
      "3  Banjarnegara   Rp1,610,000    Rp1,748,000    Rp1,805,000    Rp1,819,835    \n",
      "4     Purworejo   Rp1,686,000    Rp1,835,000    Rp1,895,000    Rp1,906,781    \n",
      "\n",
      "            2023  \n",
      "0   Rp2,383,090   \n",
      "1   Rp2,118,124   \n",
      "2   Rp2,130,981   \n",
      "3   Rp1,958,170   \n",
      "4   Rp2,035,890   \n"
     ]
    }
   ],
   "source": [
    "df=pd.read_csv('umk_jateng.csv')\n",
    "print(df.head())"
   ]
  },
  {
   "cell_type": "code",
   "execution_count": 10,
   "metadata": {},
   "outputs": [
    {
     "data": {
      "text/html": [
       "<div>\n",
       "<style scoped>\n",
       "    .dataframe tbody tr th:only-of-type {\n",
       "        vertical-align: middle;\n",
       "    }\n",
       "\n",
       "    .dataframe tbody tr th {\n",
       "        vertical-align: top;\n",
       "    }\n",
       "\n",
       "    .dataframe thead th {\n",
       "        text-align: right;\n",
       "    }\n",
       "</style>\n",
       "<table border=\"1\" class=\"dataframe\">\n",
       "  <thead>\n",
       "    <tr style=\"text-align: right;\">\n",
       "      <th></th>\n",
       "      <th>Kabupaten</th>\n",
       "      <th>2019</th>\n",
       "      <th>2020</th>\n",
       "      <th>2021</th>\n",
       "      <th>2022</th>\n",
       "      <th>2023</th>\n",
       "    </tr>\n",
       "  </thead>\n",
       "  <tbody>\n",
       "    <tr>\n",
       "      <th>17</th>\n",
       "      <td>Pati</td>\n",
       "      <td>Rp1,742,000</td>\n",
       "      <td>Rp1,891,000</td>\n",
       "      <td>Rp1,953,000</td>\n",
       "      <td>Rp1,968,339</td>\n",
       "      <td>Rp2,107,697</td>\n",
       "    </tr>\n",
       "  </tbody>\n",
       "</table>\n",
       "</div>"
      ],
      "text/plain": [
       "   Kabupaten           2019           2020           2021           2022  \\\n",
       "17      Pati   Rp1,742,000    Rp1,891,000    Rp1,953,000    Rp1,968,339    \n",
       "\n",
       "             2023  \n",
       "17   Rp2,107,697   "
      ]
     },
     "execution_count": 10,
     "metadata": {},
     "output_type": "execute_result"
    }
   ],
   "source": [
    "umkpati = df[df['Kabupaten'] == 'Pati']\n",
    "umkpati"
   ]
  },
  {
   "cell_type": "code",
   "execution_count": 11,
   "metadata": {},
   "outputs": [
    {
     "data": {
      "text/html": [
       "<div>\n",
       "<style scoped>\n",
       "    .dataframe tbody tr th:only-of-type {\n",
       "        vertical-align: middle;\n",
       "    }\n",
       "\n",
       "    .dataframe tbody tr th {\n",
       "        vertical-align: top;\n",
       "    }\n",
       "\n",
       "    .dataframe thead th {\n",
       "        text-align: right;\n",
       "    }\n",
       "</style>\n",
       "<table border=\"1\" class=\"dataframe\">\n",
       "  <thead>\n",
       "    <tr style=\"text-align: right;\">\n",
       "      <th></th>\n",
       "      <th>Kabupaten</th>\n",
       "      <th>2019</th>\n",
       "      <th>2020</th>\n",
       "      <th>2021</th>\n",
       "      <th>2022</th>\n",
       "      <th>2023</th>\n",
       "    </tr>\n",
       "  </thead>\n",
       "  <tbody>\n",
       "    <tr>\n",
       "      <th>0</th>\n",
       "      <td>Cilacap</td>\n",
       "      <td>Rp1,989,058</td>\n",
       "      <td>Rp2,158,327</td>\n",
       "      <td>Rp2,228,904</td>\n",
       "      <td>Rp2,230,731</td>\n",
       "      <td>Rp2,383,090</td>\n",
       "    </tr>\n",
       "  </tbody>\n",
       "</table>\n",
       "</div>"
      ],
      "text/plain": [
       "  Kabupaten           2019           2020           2021           2022  \\\n",
       "0   Cilacap   Rp1,989,058    Rp2,158,327    Rp2,228,904    Rp2,230,731    \n",
       "\n",
       "            2023  \n",
       "0   Rp2,383,090   "
      ]
     },
     "execution_count": 11,
     "metadata": {},
     "output_type": "execute_result"
    }
   ],
   "source": [
    "umkcilacap = df[df['Kabupaten'] == 'Cilacap']\n",
    "umkcilacap"
   ]
  }
 ],
 "metadata": {
  "kernelspec": {
   "display_name": "Python 3",
   "language": "python",
   "name": "python3"
  },
  "language_info": {
   "codemirror_mode": {
    "name": "ipython",
    "version": 3
   },
   "file_extension": ".py",
   "mimetype": "text/x-python",
   "name": "python",
   "nbconvert_exporter": "python",
   "pygments_lexer": "ipython3",
   "version": "3.12.2"
  }
 },
 "nbformat": 4,
 "nbformat_minor": 2
}
