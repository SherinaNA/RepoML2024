{
 "cells": [
  {
   "cell_type": "code",
   "execution_count": 1,
   "metadata": {},
   "outputs": [
    {
     "name": "stdout",
     "output_type": "stream",
     "text": [
      "22\n"
     ]
    }
   ],
   "source": [
    "word = 'Analitika Media Sosial'\n",
    "print(len(word))"
   ]
  },
  {
   "cell_type": "code",
   "execution_count": 2,
   "metadata": {},
   "outputs": [
    {
     "name": "stdout",
     "output_type": "stream",
     "text": [
      "97\n",
      "32\n",
      "65\n"
     ]
    }
   ],
   "source": [
    "ch1 = 'a'\n",
    "ch2 = ' ' #space\n",
    "ch3 = 'A'\n",
    "\n",
    "print(ord(ch1))\n",
    "print(ord(ch2))\n",
    "print(ord(ch3))"
   ]
  },
  {
   "cell_type": "code",
   "execution_count": 3,
   "metadata": {},
   "outputs": [
    {
     "name": "stdout",
     "output_type": "stream",
     "text": [
      "nltk Md Ssl"
     ]
    }
   ],
   "source": [
    "cthString=\"Analitika Media Sosial\"\n",
    "vokal = ['a','i','u','e','o']\n",
    "\n",
    "for i in range(len(cthString)):\n",
    "    if cthString[i].lower() in vokal:\n",
    "        continue\n",
    "    print(cthString[i], end=\"\")"
   ]
  },
  {
   "cell_type": "code",
   "execution_count": 4,
   "metadata": {},
   "outputs": [
    {
     "name": "stdout",
     "output_type": "stream",
     "text": [
      "nt iol\n",
      "nali\n",
      "litika Media Sosial\n",
      "Ana\n",
      "AaiiaMdaSsa\n"
     ]
    }
   ],
   "source": [
    "cthSlice = \"Analitika Media Sosial\"\n",
    "\n",
    "print(cthSlice[1::4])\n",
    "print(cthSlice[1:5])\n",
    "print(cthSlice[3:])\n",
    "print(cthSlice[:3])\n",
    "print(cthSlice[::2])"
   ]
  }
 ],
 "metadata": {
  "kernelspec": {
   "display_name": "Python 3",
   "language": "python",
   "name": "python3"
  },
  "language_info": {
   "codemirror_mode": {
    "name": "ipython",
    "version": 3
   },
   "file_extension": ".py",
   "mimetype": "text/x-python",
   "name": "python",
   "nbconvert_exporter": "python",
   "pygments_lexer": "ipython3",
   "version": "3.12.2"
  }
 },
 "nbformat": 4,
 "nbformat_minor": 2
}
